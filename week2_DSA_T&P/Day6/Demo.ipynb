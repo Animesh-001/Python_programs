{
 "cells": [
  {
   "cell_type": "code",
   "execution_count": 3,
   "id": "5c5524b2",
   "metadata": {},
   "outputs": [
    {
     "name": "stdout",
     "output_type": "stream",
     "text": [
      "Sorted Array in Ascending Order:\n",
      "[2, 10, 12, 15, 20]\n"
     ]
    }
   ],
   "source": [
    "def selectionSort(array,size):\n",
    "    for step in range(size):\n",
    "        min_idx=step\n",
    "        for i in range(step+1,size):\n",
    "            if array[i]<array[min_idx]:\n",
    "                min_idx=i\n",
    "        (array[step],array[min_idx])=(array[min_idx],array[step])\n",
    "data=[20,12,10,15,2]\n",
    "size=len(data)\n",
    "selectionSort(data,size)\n",
    "print('Sorted Array in Ascending Order:')\n",
    "print(data)"
   ]
  },
  {
   "cell_type": "markdown",
   "id": "0a483a68",
   "metadata": {},
   "source": [
    "# QS-1\n",
    "#Qn 1\n",
    "The owner of  a bakehouse want to keep teack of tables that are occupied in his cafe.\n",
    "Assume that there are 10 tables in his cafe nubered from 1 to 10 . As and when a table\n",
    "is occupied , it must be added to occupied_table_list & when a customer leaves ,\n",
    "the corresponding table must be removed.\n",
    "\n",
    "BakeHouse\n",
    "- Occupied table list\n",
    "_init_()\n",
    "+ get_occupied_table_list()\n",
    "+ allocate_table()\n",
    "+ deallocate_table(table_number)"
   ]
  },
  {
   "cell_type": "code",
   "execution_count": 8,
   "id": "95639e82",
   "metadata": {},
   "outputs": [
    {
     "name": "stdout",
     "output_type": "stream",
     "text": [
      "1\n",
      "3\n",
      "7\n",
      "8\n",
      "9\n"
     ]
    }
   ],
   "source": [
    "class Node:\n",
    "    def __init__(self,data):\n",
    "        self.__data=data\n",
    "        self.__next=None\n",
    "    def get_data(self):\n",
    "        return self.__data\n",
    "    def set_data(self,data):\n",
    "        self.__data=data\n",
    "    def get_next(self):\n",
    "        return self.__next\n",
    "    def set_next(self,next_node):\n",
    "        self.__next=next_node\n",
    "class LinkedList:\n",
    "    def __init__(self):\n",
    "        self.__head=None\n",
    "        self.__tail=None\n",
    "    def get_head(self):\n",
    "        return self.__head\n",
    "    def get_tail(self):\n",
    "        return self.__tail\n",
    "    def add(self,data):\n",
    "        new_node=Node(data)\n",
    "        if(self.__head is None):\n",
    "            self.__head=self.__tail=new_node\n",
    "        else:\n",
    "            self.__tail.set_next(new_node)\n",
    "            self.__tail=new_node\n",
    "    def insert(self,data,data_before):\n",
    "        new_node=Node(data)\n",
    "        if(data_before==None):\n",
    "            new_node.set_next(self.__head)\n",
    "            self.__head=new_node\n",
    "            if(new_node.get_next()==None):\n",
    "                self.__tail=new_node\n",
    "        else:\n",
    "            node_before=self.find_node(data_before)\n",
    "            if(node_before is not None):\n",
    "                new_node.set_next(node_before.get_next())\n",
    "                node_before.set_next(new_node)\n",
    "                if(new_node.get_next() is None):\n",
    "                    self.__tail=new_node\n",
    "            else:\n",
    "                print(data_before,\"is not present in the Linked list\")\n",
    "    def display(self):\n",
    "        temp=self.__head\n",
    "        while(temp is not None):\n",
    "            print(temp.get_data())\n",
    "            temp=temp.get_next()\n",
    "    def find_node(self,data):\n",
    "        temp=self.__head\n",
    "        while(temp is not None):\n",
    "            if(temp.get_data()==data):\n",
    "                return temp\n",
    "            temp=temp.get_next()\n",
    "        return None\n",
    "    def delete(self,data):\n",
    "        node=self.find_node(data)\n",
    "        if(node is not None):\n",
    "            if(node==self.__head):\n",
    "                if(self.__head==self.__tail):\n",
    "                    self.__tail=None\n",
    "                self.__head=node.get_next()\n",
    "            else:\n",
    "                temp=self.__head\n",
    "                while(temp is not None):\n",
    "                    if(temp.get_next()==node):\n",
    "                        temp.set_next(node.get_next())\n",
    "                        if(node==self.__tail):\n",
    "                            self.__tail=temp\n",
    "                        node.set_next(None)\n",
    "                        break\n",
    "                    temp=temp.get_next()\n",
    "        else:\n",
    "            print(data,\"is not present in Linked list\")\n",
    "    def str(self):\n",
    "        temp=self.__head\n",
    "        msg=[]\n",
    "        while(temp is not None):\n",
    "            msg.append(str(temp.get_data()))\n",
    "            temp=temp.get_next()\n",
    "        msg=\" \".join(msg)\n",
    "        msg=\"Linkedlist data(Head to Tail): \"+ msg\n",
    "        return msg\n",
    "class BakeHouse:\n",
    "    def __init__(self):\n",
    "        self.__occupied_table_list=LinkedList()\n",
    "    def get_occupied_table_list(self):\n",
    "        return self.__occupied_table_list\n",
    "    def allocate_table(self):\n",
    "        for i in range(1,11):\n",
    "            if not self.__occupied_table_list.find_node(i):\n",
    "                self.__occupied_table_list.add(i)\n",
    "                break\n",
    "        l=[]\n",
    "        temp=self.__occupied_table_list.get_head()\n",
    "        while(temp):\n",
    "            l.append(temp.get_data())\n",
    "            temp=temp.get_next()\n",
    "        l.sort()\n",
    "        self.__occupied_table_list=LinkedList()\n",
    "        for value in l:\n",
    "            self.__occupied_table_list.add(value)       \n",
    "    def deallocate_table(self, table_number):\n",
    "        temp=self.__occupied_table_list.find_node(table_number)\n",
    "        if temp:\n",
    "            self.__occupied_table_list.delete(temp.get_data())    \n",
    "bakehouse=BakeHouse()\n",
    "bakehouse.get_occupied_table_list().add(3)\n",
    "bakehouse.get_occupied_table_list().add(7)\n",
    "bakehouse.get_occupied_table_list().add(8)\n",
    "bakehouse.get_occupied_table_list().add(9)\n",
    "bakehouse.allocate_table()\n",
    "bakehouse.get_occupied_table_list().display()"
   ]
  },
  {
   "cell_type": "code",
   "execution_count": 1,
   "id": "3af394fd",
   "metadata": {},
   "outputs": [
    {
     "name": "stdout",
     "output_type": "stream",
     "text": [
      "Unsorted array\n",
      "[8, 7, 6, 1, 0, 9, 2]\n",
      "Sorted Array in Ascending Order\n",
      "[0, 1, 2, 6, 7, 8, 9]\n"
     ]
    }
   ],
   "source": [
    "def partition(array,low,high):\n",
    "    pivot=array[high]\n",
    "    i=low-1\n",
    "    for j in range(low,high):\n",
    "        if array[j]<=pivot:\n",
    "            i=i+1\n",
    "            (array[i],array[j])=(array[j],array[i])\n",
    "    (array[i+1],array[high])=(array[high],array[i+1])\n",
    "    return i+1\n",
    "def quickSort(array,low,high):\n",
    "    if low<high:\n",
    "        pi=partition(array,low,high)\n",
    "        quickSort(data,low,pi-1)\n",
    "        quickSort(data,pi+1,high)\n",
    "data=[8,7,6,1,0,9,2]\n",
    "print(\"Unsorted array\")\n",
    "print(data)\n",
    "size=len(data)\n",
    "quickSort(data,0,size-1)\n",
    "print(\"Sorted Array in Ascending Order\")\n",
    "print(data)"
   ]
  },
  {
   "cell_type": "markdown",
   "id": "bfee11f7",
   "metadata": {},
   "source": [
    "# Q2\n",
    "Write a python program that accepts a text and displays a string which contains the\n",
    "word with the largest frequency in the text and the\n",
    "frequency itself separated by a space. Rules:\n",
    "The word should have the largest frequency.\n",
    "In case multiple words have the same frequency, then choose the word that has the maximum length.\n",
    "Assumptions:\n",
    "The text has no special characters other than space.\n",
    "The text would begin with a word and there will be only a\n",
    "single space between the words.\n",
    "Perform case insensitive string comparisons wherever necessary."
   ]
  },
  {
   "cell_type": "code",
   "execution_count": 2,
   "id": "89f83f42",
   "metadata": {},
   "outputs": [
    {
     "name": "stdout",
     "output_type": "stream",
     "text": [
      "enter text ayush pradhan ayush pradhan ayush\n",
      "ayush 3\n"
     ]
    }
   ],
   "source": [
    "text=input(\"enter text \")\n",
    "l=text.split(\" \")\n",
    "l1=[]\n",
    "for i in l:\n",
    "    n=text.count(i)\n",
    "    if n in l1:\n",
    "        continue\n",
    "    else:\n",
    "        #l1.append(i)\n",
    "        l1.append(n)\n",
    "a=l1.index(max(l1))\n",
    "print(l[a],max(l1))\n",
    "#print(\"a\",text.count(\"a\"))\n",
    "#print(l1)"
   ]
  },
  {
   "cell_type": "code",
   "execution_count": null,
   "id": "1edddcc5",
   "metadata": {},
   "outputs": [],
   "source": []
  }
 ],
 "metadata": {
  "kernelspec": {
   "display_name": "Python 3 (ipykernel)",
   "language": "python",
   "name": "python3"
  },
  "language_info": {
   "codemirror_mode": {
    "name": "ipython",
    "version": 3
   },
   "file_extension": ".py",
   "mimetype": "text/x-python",
   "name": "python",
   "nbconvert_exporter": "python",
   "pygments_lexer": "ipython3",
   "version": "3.9.13"
  }
 },
 "nbformat": 4,
 "nbformat_minor": 5
}
