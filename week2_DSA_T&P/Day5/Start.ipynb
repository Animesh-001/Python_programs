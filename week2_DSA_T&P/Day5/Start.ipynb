{
 "cells": [
  {
   "cell_type": "markdown",
   "id": "05287b85",
   "metadata": {},
   "source": [
    "# Binary Search Tree"
   ]
  },
  {
   "cell_type": "code",
   "execution_count": 3,
   "id": "89d0321b",
   "metadata": {},
   "outputs": [
    {
     "name": "stdout",
     "output_type": "stream",
     "text": [
      "InOrder  : 1 ->3 ->4 ->6 ->7 ->8 ->10 ->14 ->\n",
      "PostOrder: 1 ->4 ->7 ->6 ->3 ->14 ->10 ->8 ->\n",
      "PreOrder : 8 ->3 ->1 ->6 ->4 ->7 ->10 ->14 ->\n",
      "After deletion PreOrder : 10 ->3 ->1 ->6 ->4 ->7 ->14 ->"
     ]
    }
   ],
   "source": [
    "class Node:\n",
    "    def __init__(self,data):\n",
    "        self.data=data\n",
    "        self.left=None\n",
    "        self.right=None\n",
    "def inorder(pointer):\n",
    "    if pointer:\n",
    "        inorder(pointer.left)\n",
    "        print(pointer.data,\"->\",end=\"\")\n",
    "        inorder(pointer.right)\n",
    "def postorder(pointer):\n",
    "    if pointer:\n",
    "        postorder(pointer.left)\n",
    "        postorder(pointer.right)\n",
    "        print(pointer.data,\"->\",end=\"\")\n",
    "def preorder(pointer):\n",
    "    if pointer:\n",
    "        print(pointer.data,\"->\",end=\"\")\n",
    "        preorder(pointer.left)\n",
    "        preorder(pointer.right)\n",
    "def insert(node,data):\n",
    "    if node is None:\n",
    "        return Node(data)\n",
    "    if data < node.data:\n",
    "        node.left = insert(node.left,data)\n",
    "    else:\n",
    "        node.right=insert(node.right,data)\n",
    "    return node\n",
    "def minValueNode(node):\n",
    "    current = node\n",
    "    while current.left is not None:\n",
    "        current = current.left\n",
    "    return current\n",
    "def deleteNode(node,data):\n",
    "    if node is None:\n",
    "        return node\n",
    "    if node.data>data:\n",
    "        node.left=deleteNode(node.left,data)\n",
    "    elif node.data<data:\n",
    "        node.right=deleteNode(node.right,data)\n",
    "    else:\n",
    "        if node.left is None:\n",
    "            temp = node.right\n",
    "            node = None\n",
    "            return temp\n",
    "        elif node.right is None:\n",
    "            temp = node.left\n",
    "            node = None\n",
    "            return temp\n",
    "        temp = minValueNode(node.right)\n",
    "        node.data=temp.data\n",
    "        node.right = deleteNode(node.right,temp.data)\n",
    "    return node\n",
    "\n",
    "BST=None\n",
    "BST=insert(BST,8)\n",
    "BST=insert(BST,3)\n",
    "BST=insert(BST,1)\n",
    "BST=insert(BST,6)\n",
    "BST=insert(BST,7)\n",
    "BST=insert(BST,10)\n",
    "BST=insert(BST,14)\n",
    "BST=insert(BST,4)\n",
    "print(\"InOrder  :\",end=\" \")\n",
    "inorder(BST)\n",
    "print(\"\\nPostOrder:\",end=\" \")\n",
    "postorder(BST)\n",
    "print(\"\\nPreOrder :\",end=\" \")\n",
    "preorder(BST)\n",
    "BST=deleteNode(BST,8)\n",
    "print(\"\\nAfter deletion PreOrder :\",end=\" \")\n",
    "preorder(BST)"
   ]
  },
  {
   "cell_type": "markdown",
   "id": "b390f6c6",
   "metadata": {},
   "source": [
    "# QS-1\n",
    "Write a python function which accepts two linked lists containing integer data and an integer, n and merges the two linked lists, such that list2 is merged with list1 after n number of nodes.\n",
    "\n",
    "Assume that value of n will always be less than or equal to the number of nodes in list1."
   ]
  },
  {
   "cell_type": "code",
   "execution_count": 5,
   "id": "39b0f455",
   "metadata": {},
   "outputs": [
    {
     "name": "stdout",
     "output_type": "stream",
     "text": [
      "1\n",
      "2\n",
      "9\n",
      "8\n",
      "11\n",
      "4\n",
      "3\n",
      "5\n"
     ]
    }
   ],
   "source": [
    "class Node:\n",
    "    def __init__(self, data=None):\n",
    "        self.data = data\n",
    "        self.next = None      \n",
    "class LinkedList:\n",
    "    def __init__(self):\n",
    "        self.head = None        \n",
    "    def add_node(self, data):\n",
    "        new_node = Node(data)\n",
    "        if self.head is None:\n",
    "            self.head = new_node\n",
    "            return\n",
    "        last_node = self.head\n",
    "        while last_node.next:\n",
    "            last_node = last_node.next\n",
    "        last_node.next = new_node\n",
    "    def display(self,node):\n",
    "        printval=self.head\n",
    "        #printval=node\n",
    "        while printval:\n",
    "            print(printval.data)\n",
    "            printval=printval.next\n",
    "def merge_lists(list1, list2, n):\n",
    "    if n == 0:\n",
    "        list2.tail.next = list1.head\n",
    "        return list2\n",
    "    if n > 0:\n",
    "        current_node = list1.head\n",
    "        for i in range(n - 1):\n",
    "            if current_node is None:\n",
    "                break\n",
    "            current_node = current_node.next\n",
    "        if current_node is not None:\n",
    "            temp = current_node.next\n",
    "            current_node.next = list2.head\n",
    "            current_node = current_node.next\n",
    "            while current_node.next:\n",
    "                current_node = current_node.next\n",
    "            current_node.next = temp\n",
    "        return list1\n",
    "l1=LinkedList()\n",
    "l1.add_node(1)\n",
    "l1.add_node(2)\n",
    "l1.add_node(4)\n",
    "l1.add_node(3)\n",
    "l1.add_node(5)\n",
    "l2=LinkedList()\n",
    "l2.add_node(9)\n",
    "l2.add_node(8)\n",
    "l2.add_node(11)\n",
    "res=merge_lists(l1,l2,n=2)\n",
    "l3=LinkedList()\n",
    "l1.display(res)"
   ]
  },
  {
   "cell_type": "markdown",
   "id": "4a8d6f7a",
   "metadata": {},
   "source": [
    "# QS-2\n",
    "Given a queue of numbers. Write a python function to push every second element in the queue to a stack, if it is the triangle number of the previous element in the queue and return the stack. The output stack should be of the same size as that of the input queue.\n",
    "\n",
    "Number d is said to be a triangle number of n, if d = 1 + 2 + 3 + + (n-2) + (n-1) + n. For example, 28 is said to be the triangle number of 7, if 1+2+3+4+5+6+7 is equal to 28."
   ]
  },
  {
   "cell_type": "code",
   "execution_count": null,
   "id": "ca978a9b",
   "metadata": {},
   "outputs": [],
   "source": []
  }
 ],
 "metadata": {
  "kernelspec": {
   "display_name": "Python 3 (ipykernel)",
   "language": "python",
   "name": "python3"
  },
  "language_info": {
   "codemirror_mode": {
    "name": "ipython",
    "version": 3
   },
   "file_extension": ".py",
   "mimetype": "text/x-python",
   "name": "python",
   "nbconvert_exporter": "python",
   "pygments_lexer": "ipython3",
   "version": "3.9.13"
  }
 },
 "nbformat": 4,
 "nbformat_minor": 5
}
